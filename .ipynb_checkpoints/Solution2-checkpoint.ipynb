{
 "cells": [
  {
   "cell_type": "code",
   "execution_count": 1,
   "id": "f54b7980",
   "metadata": {},
   "outputs": [],
   "source": [
    "import numpy as np\n",
    "import warnings, scipy\n",
    "import pandas as pd\n",
    "import matplotlib.pyplot as plt\n",
    "import matplotlib.patches as mpatches\n",
    "from matplotlib.gridspec import GridSpec\n",
    "import seaborn as sns\n",
    "from datetime import datetime as dt\n",
    "import dateutil\n",
    "from scipy.optimize import curve_fit\n",
    "from sklearn.ensemble import GradientBoostingClassifier, RandomForestClassifier\n",
    "from sklearn.model_selection import ParameterGrid, StratifiedKFold, train_test_split\n",
    "from sklearn.linear_model import LogisticRegression\n",
    "from sklearn.metrics import classification_report, f1_score, confusion_matrix\n",
    "from sklearn.metrics import roc_curve, roc_auc_score, precision_recall_curve\n",
    "from sklearn.ensemble import GradientBoostingClassifier\n",
    "from sklearn.model_selection import train_test_split\n",
    "from sklearn.metrics import classification_report, confusion_matrix\n",
    "from catboost import CatBoostRegressor, Pool\n",
    "from sklearn.model_selection import cross_val_score, KFold, GridSearchCV, ShuffleSplit\n",
    "warnings.filterwarnings(\"ignore\")"
   ]
  },
  {
   "cell_type": "code",
   "execution_count": 4,
   "id": "f17628a6",
   "metadata": {},
   "outputs": [],
   "source": [
    "!pip freeze > requirements2.txt"
   ]
  },
  {
   "cell_type": "code",
   "execution_count": 5,
   "id": "a4ab1967",
   "metadata": {},
   "outputs": [],
   "source": [
    "df = pd.read_csv(\"https://raw.githubusercontent.com/LEON240196/ChallengeLatam/develop/Clean_SCL.csv\", parse_dates=['Fecha-I', 'Fecha-O'])\n",
    "df['TIPOVUELO'] = df['TIPOVUELO'].apply(lambda x: 1 if x=='I' else 0)"
   ]
  },
  {
   "cell_type": "code",
   "execution_count": 6,
   "id": "f0f6cb62",
   "metadata": {
    "scrolled": true
   },
   "outputs": [
    {
     "name": "stdout",
     "output_type": "stream",
     "text": [
      "<class 'pandas.core.frame.DataFrame'>\n",
      "RangeIndex: 68206 entries, 0 to 68205\n",
      "Data columns (total 24 columns):\n",
      " #   Column          Non-Null Count  Dtype         \n",
      "---  ------          --------------  -----         \n",
      " 0   Fecha-I         68206 non-null  datetime64[ns]\n",
      " 1   Vlo-I           68206 non-null  object        \n",
      " 2   Ori-I           68206 non-null  object        \n",
      " 3   Des-I           68206 non-null  object        \n",
      " 4   Emp-I           68206 non-null  object        \n",
      " 5   Fecha-O         68206 non-null  datetime64[ns]\n",
      " 6   Vlo-O           68205 non-null  object        \n",
      " 7   Ori-O           68206 non-null  object        \n",
      " 8   Des-O           68206 non-null  object        \n",
      " 9   Emp-O           68206 non-null  object        \n",
      " 10  DIA             68206 non-null  int64         \n",
      " 11  MES             68206 non-null  int64         \n",
      " 12  DIANOM          68206 non-null  object        \n",
      " 13  TIPOVUELO       68206 non-null  int64         \n",
      " 14  OPERA           68206 non-null  object        \n",
      " 15  SIGLAORI        68206 non-null  object        \n",
      " 16  SIGLADES        68206 non-null  object        \n",
      " 17  ANO             68206 non-null  int64         \n",
      " 18  temporada_alta  68206 non-null  int64         \n",
      " 19  dif_min         68206 non-null  float64       \n",
      " 20  atraso_15       68206 non-null  int64         \n",
      " 21  periodo_dia     68206 non-null  object        \n",
      " 22  Season          68206 non-null  object        \n",
      " 23  dif_nivel       68206 non-null  int64         \n",
      "dtypes: datetime64[ns](2), float64(1), int64(7), object(14)\n",
      "memory usage: 12.5+ MB\n"
     ]
    }
   ],
   "source": [
    "df.info()"
   ]
  },
  {
   "cell_type": "markdown",
   "id": "db287ea5",
   "metadata": {},
   "source": [
    "Lista con variables categoricas, singleencode y columnas que borrar"
   ]
  },
  {
   "cell_type": "code",
   "execution_count": 7,
   "id": "4ba26fac",
   "metadata": {},
   "outputs": [],
   "source": [
    "cat = ['Season', 'periodo_dia', 'ANO', 'Emp-O','Des-O', 'DIANOM', 'DIA', 'MES'] # Des-O?\n",
    "single = ['TIPOVUELO']\n",
    "delete = ['Fecha-I','OPERA', 'SIGLAORI', 'Fecha-O', 'dif_min','dif_nivel',\n",
    "'Vlo-O', 'Ori-I','Vlo-I', 'Des-I', 'Emp-I', 'Ori-O', 'SIGLADES']\n"
   ]
  },
  {
   "cell_type": "code",
   "execution_count": 8,
   "id": "48b13bdd",
   "metadata": {},
   "outputs": [],
   "source": [
    "df = df.drop(labels=delete, axis=1)"
   ]
  },
  {
   "cell_type": "markdown",
   "id": "68721e43",
   "metadata": {},
   "source": [
    "# Label Encoder & Dummies"
   ]
  },
  {
   "cell_type": "markdown",
   "id": "33855fdf",
   "metadata": {},
   "source": [
    "Creamos una columna para cada variable categorica"
   ]
  },
  {
   "cell_type": "code",
   "execution_count": 9,
   "id": "c773eecd",
   "metadata": {},
   "outputs": [],
   "source": [
    "df = pd.get_dummies(data=df, columns=cat) \n",
    "X = df.drop(labels=['atraso_15'], axis=1)\n",
    "y = df[['atraso_15']]"
   ]
  },
  {
   "cell_type": "markdown",
   "id": "ebf3165b",
   "metadata": {},
   "source": [
    "# MODELO"
   ]
  },
  {
   "cell_type": "markdown",
   "id": "64fc8e8c",
   "metadata": {},
   "source": [
    "Dividimos el dataset en train, test data y validation"
   ]
  },
  {
   "cell_type": "code",
   "execution_count": 10,
   "id": "463e6db1",
   "metadata": {
    "scrolled": true
   },
   "outputs": [],
   "source": [
    "X_trainval, X_test, y_trainval, y_test = train_test_split(X, y, \n",
    "                             random_state=42)\n",
    "X_train, X_valid, y_train, y_valid = train_test_split(X_trainval, \n",
    "                    y_trainval, random_state=42)"
   ]
  },
  {
   "cell_type": "code",
   "execution_count": 11,
   "id": "5fb1a065",
   "metadata": {},
   "outputs": [],
   "source": [
    "kfold = KFold(n_splits=3, shuffle=True, random_state=42)"
   ]
  },
  {
   "cell_type": "markdown",
   "id": "42ced3f2",
   "metadata": {},
   "source": [
    "# Param Grid GridSearchCV"
   ]
  },
  {
   "cell_type": "markdown",
   "id": "d3e03974",
   "metadata": {},
   "source": [
    "## Utilizando GradientBoostClassifier"
   ]
  },
  {
   "cell_type": "markdown",
   "id": "9750e2c0",
   "metadata": {},
   "source": [
    "Se utiliza un Gradient Boost Classifier y la funcion GridSearchCV, para crear diferentes modelos y eleigr los mejores hiperparametros para conseguir el mejor score posible del modelo."
   ]
  },
  {
   "cell_type": "code",
   "execution_count": 12,
   "id": "5e16d48f",
   "metadata": {},
   "outputs": [],
   "source": [
    "param_grid = {'n_estimators':[ 45, 55],\n",
    "                    'learning_rate':[ 0.8, 1], \n",
    "                    'max_features':[14, 18],\n",
    "                    'max_depth':[14, 22]}"
   ]
  },
  {
   "cell_type": "code",
   "execution_count": 13,
   "id": "371391ae",
   "metadata": {},
   "outputs": [],
   "source": [
    "grid_search = GridSearchCV(GradientBoostingClassifier(), param_grid, cv=3, scoring='f1')"
   ]
  },
  {
   "cell_type": "code",
   "execution_count": 14,
   "id": "e72e8bb6",
   "metadata": {},
   "outputs": [
    {
     "data": {
      "text/plain": [
       "GridSearchCV(cv=3, estimator=GradientBoostingClassifier(),\n",
       "             param_grid={'learning_rate': [0.8, 1], 'max_depth': [14, 22],\n",
       "                         'max_features': [14, 18], 'n_estimators': [45, 55]},\n",
       "             scoring='f1')"
      ]
     },
     "execution_count": 14,
     "metadata": {},
     "output_type": "execute_result"
    }
   ],
   "source": [
    "grid_search.fit(X_train, y_train)"
   ]
  },
  {
   "cell_type": "code",
   "execution_count": 15,
   "id": "513c55d1",
   "metadata": {},
   "outputs": [
    {
     "name": "stdout",
     "output_type": "stream",
     "text": [
      "Test set score: 0.30\n"
     ]
    }
   ],
   "source": [
    "print('Test set score: {:.2f}'.format(grid_search.score(X_valid, y_valid)))"
   ]
  },
  {
   "cell_type": "code",
   "execution_count": 16,
   "id": "2d249d2b",
   "metadata": {
    "scrolled": true
   },
   "outputs": [
    {
     "name": "stdout",
     "output_type": "stream",
     "text": [
      "Best parameters: {'learning_rate': 0.8, 'max_depth': 14, 'max_features': 18, 'n_estimators': 55}\n",
      "Best cross-validation score: 0.28\n"
     ]
    }
   ],
   "source": [
    "print(\"Best parameters: {}\".format(grid_search.best_params_))\n",
    "print(\"Best cross-validation score: {:.2f}\".format(grid_search.best_score_))"
   ]
  },
  {
   "cell_type": "code",
   "execution_count": 17,
   "id": "f483fbc8",
   "metadata": {},
   "outputs": [
    {
     "name": "stdout",
     "output_type": "stream",
     "text": [
      "Best estimator:\n",
      "GradientBoostingClassifier(learning_rate=0.8, max_depth=14, max_features=18,\n",
      "                           n_estimators=55)\n"
     ]
    }
   ],
   "source": [
    "print(\"Best estimator:\\n{}\".format(grid_search.best_estimator_))"
   ]
  },
  {
   "cell_type": "code",
   "execution_count": 18,
   "id": "38c21478",
   "metadata": {
    "scrolled": true
   },
   "outputs": [
    {
     "data": {
      "text/html": [
       "<div>\n",
       "<style scoped>\n",
       "    .dataframe tbody tr th:only-of-type {\n",
       "        vertical-align: middle;\n",
       "    }\n",
       "\n",
       "    .dataframe tbody tr th {\n",
       "        vertical-align: top;\n",
       "    }\n",
       "\n",
       "    .dataframe thead th {\n",
       "        text-align: right;\n",
       "    }\n",
       "</style>\n",
       "<table border=\"1\" class=\"dataframe\">\n",
       "  <thead>\n",
       "    <tr style=\"text-align: right;\">\n",
       "      <th></th>\n",
       "      <th>param_learning_rate</th>\n",
       "      <th>param_max_depth</th>\n",
       "      <th>param_max_features</th>\n",
       "      <th>param_n_estimators</th>\n",
       "      <th>params</th>\n",
       "      <th>mean_test_score</th>\n",
       "      <th>rank_test_score</th>\n",
       "    </tr>\n",
       "  </thead>\n",
       "  <tbody>\n",
       "    <tr>\n",
       "      <th>3</th>\n",
       "      <td>0.8</td>\n",
       "      <td>14</td>\n",
       "      <td>18</td>\n",
       "      <td>55</td>\n",
       "      <td>{'learning_rate': 0.8, 'max_depth': 14, 'max_f...</td>\n",
       "      <td>0.283580</td>\n",
       "      <td>1</td>\n",
       "    </tr>\n",
       "    <tr>\n",
       "      <th>1</th>\n",
       "      <td>0.8</td>\n",
       "      <td>14</td>\n",
       "      <td>14</td>\n",
       "      <td>55</td>\n",
       "      <td>{'learning_rate': 0.8, 'max_depth': 14, 'max_f...</td>\n",
       "      <td>0.283557</td>\n",
       "      <td>2</td>\n",
       "    </tr>\n",
       "    <tr>\n",
       "      <th>9</th>\n",
       "      <td>1</td>\n",
       "      <td>14</td>\n",
       "      <td>14</td>\n",
       "      <td>55</td>\n",
       "      <td>{'learning_rate': 1, 'max_depth': 14, 'max_fea...</td>\n",
       "      <td>0.280903</td>\n",
       "      <td>3</td>\n",
       "    </tr>\n",
       "  </tbody>\n",
       "</table>\n",
       "</div>"
      ],
      "text/plain": [
       "  param_learning_rate param_max_depth param_max_features param_n_estimators  \\\n",
       "3                 0.8              14                 18                 55   \n",
       "1                 0.8              14                 14                 55   \n",
       "9                   1              14                 14                 55   \n",
       "\n",
       "                                              params  mean_test_score  \\\n",
       "3  {'learning_rate': 0.8, 'max_depth': 14, 'max_f...         0.283580   \n",
       "1  {'learning_rate': 0.8, 'max_depth': 14, 'max_f...         0.283557   \n",
       "9  {'learning_rate': 1, 'max_depth': 14, 'max_fea...         0.280903   \n",
       "\n",
       "   rank_test_score  \n",
       "3                1  \n",
       "1                2  \n",
       "9                3  "
      ]
     },
     "execution_count": 18,
     "metadata": {},
     "output_type": "execute_result"
    }
   ],
   "source": [
    "results = pd.DataFrame(grid_search.cv_results_)\n",
    "\n",
    "results.sort_values('mean_test_score', ascending=False)[['param_learning_rate', \n",
    "        'param_max_depth', 'param_max_features', 'param_n_estimators','params', 'mean_test_score', 'rank_test_score']].head(3)"
   ]
  },
  {
   "cell_type": "markdown",
   "id": "4b0b55be",
   "metadata": {},
   "source": [
    "El modelo arroja que los features mas importantes para predecir si algun vuelo se va a retrasar o no, son : Periodo del dia, Emp-O, temporada alta y DIANOM."
   ]
  },
  {
   "cell_type": "code",
   "execution_count": 19,
   "id": "c4b75e93",
   "metadata": {
    "scrolled": true
   },
   "outputs": [
    {
     "data": {
      "text/plain": [
       "Text(0.5, 1.0, 'Variable Importance')"
      ]
     },
     "execution_count": 19,
     "metadata": {},
     "output_type": "execute_result"
    },
    {
     "data": {
      "image/png": "[encoded data removed]",
      "text/plain": [
       "<Figure size 576x1296 with 1 Axes>"
      ]
     },
     "metadata": {
      "needs_background": "light"
     },
     "output_type": "display_data"
    }
   ],
   "source": [
    "feature_importance = grid_search.best_estimator_.feature_importances_\n",
    "# make importances relative to max importance\n",
    "feature_importance = 100.0 * (feature_importance / feature_importance.max())\n",
    "sorted_idx = np.argsort(feature_importance)\n",
    "pos = np.arange(sorted_idx.shape[0]) + .5\n",
    "# plt.subplot(1, 2, 2)\n",
    "\n",
    "\n",
    "plt.figure(figsize=(8, 18))\n",
    "plt.barh(pos[-10:], feature_importance[sorted_idx][-10:], align='center')\n",
    "\n",
    "\n",
    "plt.yticks(pos[-10:], X.keys()[sorted_idx][-10:])\n",
    "plt.xlabel('Relative Importance')\n",
    "plt.title('Variable Importance')\n"
   ]
  },
  {
   "cell_type": "markdown",
   "id": "ba238ce0",
   "metadata": {},
   "source": [
    "Creamos un modelo con los hiperparametros enocontrados."
   ]
  },
  {
   "cell_type": "code",
   "execution_count": 20,
   "id": "5dd70c1d",
   "metadata": {},
   "outputs": [
    {
     "name": "stdout",
     "output_type": "stream",
     "text": [
      "GradientBoostingClassifier(learning_rate=0.8, max_depth=14, max_features=18,\n",
      "                           n_estimators=55)\n"
     ]
    }
   ],
   "source": [
    "param_grid2 = grid_search.best_estimator_\n",
    "print(param_grid2)\n",
    "param_grid2 = {'n_estimators':45,\n",
    "                    'learning_rate':0.8, \n",
    "                    'max_features':14,\n",
    "                    'max_depth':14}"
   ]
  },
  {
   "cell_type": "code",
   "execution_count": 21,
   "id": "686da67a",
   "metadata": {},
   "outputs": [
    {
     "data": {
      "text/plain": [
       "array([[12275,  1587],\n",
       "       [ 2321,   869]])"
      ]
     },
     "execution_count": 21,
     "metadata": {},
     "output_type": "execute_result"
    }
   ],
   "source": [
    "modelboost = GradientBoostingClassifier(n_estimators=45, learning_rate=0.8, max_features=14, max_depth=14)\n",
    "modelboost.fit(X_train, y_train)\n",
    "pred_boost = modelboost.predict(X_test)\n",
    "confusionboost = confusion_matrix(y_test, pred_boost)\n",
    "confusionboost"
   ]
  },
  {
   "cell_type": "markdown",
   "id": "866261e4",
   "metadata": {},
   "source": [
    "El f1-score del modelo para predcir si tiene retraso o no es de 0.32"
   ]
  },
  {
   "cell_type": "code",
   "execution_count": 22,
   "id": "6ede50df",
   "metadata": {
    "scrolled": true
   },
   "outputs": [
    {
     "name": "stdout",
     "output_type": "stream",
     "text": [
      "0.30782855118668084\n",
      "              precision    recall  f1-score   support\n",
      "\n",
      " sin retraso       0.84      0.89      0.86     13862\n",
      " con retraso       0.35      0.27      0.31      3190\n",
      "\n",
      "    accuracy                           0.77     17052\n",
      "   macro avg       0.60      0.58      0.59     17052\n",
      "weighted avg       0.75      0.77      0.76     17052\n",
      "\n"
     ]
    }
   ],
   "source": [
    "print(f1_score(y_test, pred_boost))\n",
    "print(classification_report(y_test, pred_boost, target_names=['sin retraso', ' con retraso']))"
   ]
  },
  {
   "cell_type": "markdown",
   "id": "51afbdde",
   "metadata": {},
   "source": [
    "Cada punto corresponde del posible \"threshold\" que puede lograr la funcion de decision, entre mas cerca a la parte superior derecha, es mejor el modelo para clasificar"
   ]
  },
  {
   "cell_type": "code",
   "execution_count": 50,
   "id": "ba8bddbb",
   "metadata": {},
   "outputs": [
    {
     "data": {
      "text/plain": [
       "<matplotlib.legend.Legend at 0x7fe1ee677610>"
      ]
     },
     "execution_count": 50,
     "metadata": {},
     "output_type": "execute_result"
    },
    {
     "data": {
      "image/png": "[encoded data removed]",
      "text/plain": [
       "<Figure size 432x288 with 1 Axes>"
      ]
     },
     "metadata": {
      "needs_background": "light"
     },
     "output_type": "display_data"
    }
   ],
   "source": [
    "precision, recall, thresholds = precision_recall_curve(\n",
    "        y_test, modelboost.decision_function(X_test))\n",
    "\n",
    "close_zero = np.argmin(np.abs(thresholds))\n",
    "plt.plot(precision[close_zero], recall[close_zero], 'o', markersize=10,\n",
    "label=\"threshold zero\", fillstyle=\"none\", c='k', mew=2)\n",
    "plt.plot(precision, recall, label=\"precision recall curve\")\n",
    "plt.xlabel(\"Precision\")\n",
    "plt.ylabel(\"Recall\")\n",
    "plt.legend(loc=\"best\")"
   ]
  },
  {
   "cell_type": "markdown",
   "id": "16993bbf",
   "metadata": {},
   "source": [
    "# Logistic Regressiion"
   ]
  },
  {
   "cell_type": "code",
   "execution_count": 25,
   "id": "c039cb46",
   "metadata": {},
   "outputs": [],
   "source": [
    "param_grid2 = {'C':[1, 2, 3], 'penalty':['l1', 'l2']}"
   ]
  },
  {
   "cell_type": "code",
   "execution_count": 26,
   "id": "adde0f9e",
   "metadata": {},
   "outputs": [],
   "source": [
    "grid_search2 = GridSearchCV(LogisticRegression(), param_grid2, cv=3, scoring='f1')"
   ]
  },
  {
   "cell_type": "code",
   "execution_count": 27,
   "id": "44f35084",
   "metadata": {},
   "outputs": [
    {
     "data": {
      "text/plain": [
       "GridSearchCV(cv=3, estimator=LogisticRegression(),\n",
       "             param_grid={'C': [1, 2, 3], 'penalty': ['l1', 'l2']},\n",
       "             scoring='f1')"
      ]
     },
     "execution_count": 27,
     "metadata": {},
     "output_type": "execute_result"
    }
   ],
   "source": [
    "grid_search2.fit(X_train, y_train)"
   ]
  },
  {
   "cell_type": "code",
   "execution_count": 28,
   "id": "57b09d05",
   "metadata": {},
   "outputs": [
    {
     "name": "stdout",
     "output_type": "stream",
     "text": [
      "Test set score: 0.09\n"
     ]
    }
   ],
   "source": [
    "print('Test set score: {:.2f}'.format(grid_search2.score(X_valid, y_valid)))"
   ]
  },
  {
   "cell_type": "code",
   "execution_count": 29,
   "id": "779808c2",
   "metadata": {},
   "outputs": [
    {
     "name": "stdout",
     "output_type": "stream",
     "text": [
      "Best parameters: {'C': 3, 'penalty': 'l2'}\n",
      "Best cross-validation score: 0.09\n"
     ]
    }
   ],
   "source": [
    "print(\"Best parameters: {}\".format(grid_search2.best_params_))\n",
    "print(\"Best cross-validation score: {:.2f}\".format(grid_search2.best_score_))"
   ]
  },
  {
   "cell_type": "code",
   "execution_count": 30,
   "id": "a4544f4e",
   "metadata": {},
   "outputs": [
    {
     "name": "stdout",
     "output_type": "stream",
     "text": [
      "Best estimator:\n",
      "LogisticRegression(C=3)\n"
     ]
    }
   ],
   "source": [
    "print(\"Best estimator:\\n{}\".format(grid_search2.best_estimator_))"
   ]
  },
  {
   "cell_type": "code",
   "execution_count": 31,
   "id": "01d89adb",
   "metadata": {},
   "outputs": [
    {
     "data": {
      "text/html": [
       "<div>\n",
       "<style scoped>\n",
       "    .dataframe tbody tr th:only-of-type {\n",
       "        vertical-align: middle;\n",
       "    }\n",
       "\n",
       "    .dataframe tbody tr th {\n",
       "        vertical-align: top;\n",
       "    }\n",
       "\n",
       "    .dataframe thead th {\n",
       "        text-align: right;\n",
       "    }\n",
       "</style>\n",
       "<table border=\"1\" class=\"dataframe\">\n",
       "  <thead>\n",
       "    <tr style=\"text-align: right;\">\n",
       "      <th></th>\n",
       "      <th>mean_fit_time</th>\n",
       "      <th>std_fit_time</th>\n",
       "      <th>mean_score_time</th>\n",
       "      <th>std_score_time</th>\n",
       "      <th>param_C</th>\n",
       "      <th>param_penalty</th>\n",
       "      <th>params</th>\n",
       "      <th>split0_test_score</th>\n",
       "      <th>split1_test_score</th>\n",
       "      <th>split2_test_score</th>\n",
       "      <th>mean_test_score</th>\n",
       "      <th>std_test_score</th>\n",
       "      <th>rank_test_score</th>\n",
       "    </tr>\n",
       "  </thead>\n",
       "  <tbody>\n",
       "    <tr>\n",
       "      <th>5</th>\n",
       "      <td>0.519730</td>\n",
       "      <td>0.038232</td>\n",
       "      <td>0.026228</td>\n",
       "      <td>0.000750</td>\n",
       "      <td>3</td>\n",
       "      <td>l2</td>\n",
       "      <td>{'C': 3, 'penalty': 'l2'}</td>\n",
       "      <td>0.084660</td>\n",
       "      <td>0.082171</td>\n",
       "      <td>0.090701</td>\n",
       "      <td>0.085844</td>\n",
       "      <td>0.003582</td>\n",
       "      <td>1</td>\n",
       "    </tr>\n",
       "    <tr>\n",
       "      <th>3</th>\n",
       "      <td>0.472982</td>\n",
       "      <td>0.020583</td>\n",
       "      <td>0.023155</td>\n",
       "      <td>0.003122</td>\n",
       "      <td>2</td>\n",
       "      <td>l2</td>\n",
       "      <td>{'C': 2, 'penalty': 'l2'}</td>\n",
       "      <td>0.083883</td>\n",
       "      <td>0.082298</td>\n",
       "      <td>0.087786</td>\n",
       "      <td>0.084656</td>\n",
       "      <td>0.002306</td>\n",
       "      <td>2</td>\n",
       "    </tr>\n",
       "    <tr>\n",
       "      <th>1</th>\n",
       "      <td>0.504919</td>\n",
       "      <td>0.014488</td>\n",
       "      <td>0.025424</td>\n",
       "      <td>0.000682</td>\n",
       "      <td>1</td>\n",
       "      <td>l2</td>\n",
       "      <td>{'C': 1, 'penalty': 'l2'}</td>\n",
       "      <td>0.080997</td>\n",
       "      <td>0.078034</td>\n",
       "      <td>0.085791</td>\n",
       "      <td>0.081607</td>\n",
       "      <td>0.003196</td>\n",
       "      <td>3</td>\n",
       "    </tr>\n",
       "    <tr>\n",
       "      <th>0</th>\n",
       "      <td>0.032217</td>\n",
       "      <td>0.003989</td>\n",
       "      <td>0.000000</td>\n",
       "      <td>0.000000</td>\n",
       "      <td>1</td>\n",
       "      <td>l1</td>\n",
       "      <td>{'C': 1, 'penalty': 'l1'}</td>\n",
       "      <td>NaN</td>\n",
       "      <td>NaN</td>\n",
       "      <td>NaN</td>\n",
       "      <td>NaN</td>\n",
       "      <td>NaN</td>\n",
       "      <td>4</td>\n",
       "    </tr>\n",
       "    <tr>\n",
       "      <th>2</th>\n",
       "      <td>0.032423</td>\n",
       "      <td>0.004377</td>\n",
       "      <td>0.000000</td>\n",
       "      <td>0.000000</td>\n",
       "      <td>2</td>\n",
       "      <td>l1</td>\n",
       "      <td>{'C': 2, 'penalty': 'l1'}</td>\n",
       "      <td>NaN</td>\n",
       "      <td>NaN</td>\n",
       "      <td>NaN</td>\n",
       "      <td>NaN</td>\n",
       "      <td>NaN</td>\n",
       "      <td>5</td>\n",
       "    </tr>\n",
       "    <tr>\n",
       "      <th>4</th>\n",
       "      <td>0.031471</td>\n",
       "      <td>0.003065</td>\n",
       "      <td>0.000000</td>\n",
       "      <td>0.000000</td>\n",
       "      <td>3</td>\n",
       "      <td>l1</td>\n",
       "      <td>{'C': 3, 'penalty': 'l1'}</td>\n",
       "      <td>NaN</td>\n",
       "      <td>NaN</td>\n",
       "      <td>NaN</td>\n",
       "      <td>NaN</td>\n",
       "      <td>NaN</td>\n",
       "      <td>6</td>\n",
       "    </tr>\n",
       "  </tbody>\n",
       "</table>\n",
       "</div>"
      ],
      "text/plain": [
       "   mean_fit_time  std_fit_time  mean_score_time  std_score_time param_C  \\\n",
       "5       0.519730      0.038232         0.026228        0.000750       3   \n",
       "3       0.472982      0.020583         0.023155        0.003122       2   \n",
       "1       0.504919      0.014488         0.025424        0.000682       1   \n",
       "0       0.032217      0.003989         0.000000        0.000000       1   \n",
       "2       0.032423      0.004377         0.000000        0.000000       2   \n",
       "4       0.031471      0.003065         0.000000        0.000000       3   \n",
       "\n",
       "  param_penalty                     params  split0_test_score  \\\n",
       "5            l2  {'C': 3, 'penalty': 'l2'}           0.084660   \n",
       "3            l2  {'C': 2, 'penalty': 'l2'}           0.083883   \n",
       "1            l2  {'C': 1, 'penalty': 'l2'}           0.080997   \n",
       "0            l1  {'C': 1, 'penalty': 'l1'}                NaN   \n",
       "2            l1  {'C': 2, 'penalty': 'l1'}                NaN   \n",
       "4            l1  {'C': 3, 'penalty': 'l1'}                NaN   \n",
       "\n",
       "   split1_test_score  split2_test_score  mean_test_score  std_test_score  \\\n",
       "5           0.082171           0.090701         0.085844        0.003582   \n",
       "3           0.082298           0.087786         0.084656        0.002306   \n",
       "1           0.078034           0.085791         0.081607        0.003196   \n",
       "0                NaN                NaN              NaN             NaN   \n",
       "2                NaN                NaN              NaN             NaN   \n",
       "4                NaN                NaN              NaN             NaN   \n",
       "\n",
       "   rank_test_score  \n",
       "5                1  \n",
       "3                2  \n",
       "1                3  \n",
       "0                4  \n",
       "2                5  \n",
       "4                6  "
      ]
     },
     "execution_count": 31,
     "metadata": {},
     "output_type": "execute_result"
    }
   ],
   "source": [
    "results = pd.DataFrame(grid_search2.cv_results_)\n",
    "\n",
    "results.sort_values('mean_test_score', ascending=False)"
   ]
  },
  {
   "cell_type": "code",
   "execution_count": 32,
   "id": "64594215",
   "metadata": {},
   "outputs": [
    {
     "data": {
      "text/plain": [
       "array([[13743,   119],\n",
       "       [ 3032,   158]])"
      ]
     },
     "execution_count": 32,
     "metadata": {},
     "output_type": "execute_result"
    }
   ],
   "source": [
    "modellog = LogisticRegression(C=1)\n",
    "modellog.fit(X_train, y_train)\n",
    "pred_log = modellog.predict(X_test)\n",
    "confusionlog = confusion_matrix(y_test, pred_log)\n",
    "confusionlog"
   ]
  },
  {
   "cell_type": "markdown",
   "id": "a7055a27",
   "metadata": {},
   "source": [
    "En el siguiente reporte de clasificacion podemos ver que a pesar de tener un accuracy de 0.82, el f1 score de la variable con retraso es solamente de 0.09, y con el modelo anterior fue de .31"
   ]
  },
  {
   "cell_type": "code",
   "execution_count": 33,
   "id": "7a3fcf62",
   "metadata": {},
   "outputs": [
    {
     "name": "stdout",
     "output_type": "stream",
     "text": [
      "0.09114508220363428\n",
      "              precision    recall  f1-score   support\n",
      "\n",
      " sin retraso       0.82      0.99      0.90     13862\n",
      " con retraso       0.57      0.05      0.09      3190\n",
      "\n",
      "    accuracy                           0.82     17052\n",
      "   macro avg       0.69      0.52      0.49     17052\n",
      "weighted avg       0.77      0.82      0.75     17052\n",
      "\n"
     ]
    }
   ],
   "source": [
    "print(f1_score(y_test, pred_log))\n",
    "print(classification_report(y_test, pred_log, target_names=['sin retraso', ' con retraso']))"
   ]
  },
  {
   "cell_type": "code",
   "execution_count": 46,
   "id": "6383e6d1",
   "metadata": {},
   "outputs": [
    {
     "data": {
      "text/plain": [
       "<matplotlib.legend.Legend at 0x7fe1ee1f8790>"
      ]
     },
     "execution_count": 46,
     "metadata": {},
     "output_type": "execute_result"
    },
    {
     "data": {
      "image/png": "[encoded data removed]",
      "text/plain": [
       "<Figure size 432x288 with 1 Axes>"
      ]
     },
     "metadata": {
      "needs_background": "light"
     },
     "output_type": "display_data"
    }
   ],
   "source": [
    "precisionlog, recallog, thresholdslog = precision_recall_curve(\n",
    "        y_test, modellog.decision_function(X_test))\n",
    "\n",
    "close_zero = np.argmin(np.abs(thresholds))\n",
    "plt.plot(precisionlog[close_zero], recallog[close_zero], 'o', markersize=10,\n",
    "label=\"threshold zero\", fillstyle=\"none\", c='k', mew=2)\n",
    "plt.plot(precisionlog, recallog, label=\"precision recall curve for LogRegression\")\n",
    "plt.xlabel(\"Precision\")\n",
    "plt.ylabel(\"Recall\")\n",
    "plt.legend(loc=\"best\")\n",
    "\n",
    "precision, recall, thresholds = precision_recall_curve(\n",
    "        y_test, modelboost.decision_function(X_test))\n",
    "\n",
    "close_zero = np.argmin(np.abs(thresholds))\n",
    "plt.plot(precision[close_zero], recall[close_zero], 'o', markersize=10,\n",
    "label=\"threshold zero\", fillstyle=\"none\", c='k', mew=2)\n",
    "plt.plot(precision, recall, label=\"precision recall curve for GBC\")\n",
    "plt.xlabel(\"Precision\")\n",
    "plt.ylabel(\"Recall\")\n",
    "plt.legend(loc=\"best\")"
   ]
  },
  {
   "cell_type": "code",
   "execution_count": 47,
   "id": "7f924ffe",
   "metadata": {},
   "outputs": [
    {
     "name": "stdout",
     "output_type": "stream",
     "text": [
      "f1_score of GBC : 0.308\n",
      "f1_score of svc: 0.091\n"
     ]
    }
   ],
   "source": [
    "print(\"f1_score of GBC : {:.3f}\".format(\n",
    "f1_score(y_test, modelboost.predict(X_test))))\n",
    "print(\"f1_score of svc: {:.3f}\".format(f1_score(y_test, modellog.predict(X_test))))"
   ]
  },
  {
   "cell_type": "code",
   "execution_count": 37,
   "id": "b1b2262f",
   "metadata": {},
   "outputs": [
    {
     "name": "stdout",
     "output_type": "stream",
     "text": [
      "Average precision of modelboost: 0.296\n",
      "Average precision of modellog: 0.349\n"
     ]
    }
   ],
   "source": [
    "from sklearn.metrics import average_precision_score\n",
    "ap_rf = average_precision_score(y_test, modelboost.predict_proba(X_test)[:, 1])\n",
    "ap_svc = average_precision_score(y_test, modellog.decision_function(X_test))\n",
    "print(\"Average precision of modelboost: {:.3f}\".format(ap_rf))\n",
    "print(\"Average precision of modellog: {:.3f}\".format(ap_svc))"
   ]
  },
  {
   "cell_type": "code",
   "execution_count": 38,
   "id": "140823df",
   "metadata": {},
   "outputs": [
    {
     "data": {
      "text/plain": [
       "<matplotlib.legend.Legend at 0x7fe1f2577390>"
      ]
     },
     "execution_count": 38,
     "metadata": {},
     "output_type": "execute_result"
    },
    {
     "data": {
      "image/png": "[encoded data removed]",
      "text/plain": [
       "<Figure size 432x288 with 1 Axes>"
      ]
     },
     "metadata": {
      "needs_background": "light"
     },
     "output_type": "display_data"
    }
   ],
   "source": [
    "from sklearn.metrics import roc_curve\n",
    "fpr, tpr, thresholds = roc_curve(y_test, modelboost.decision_function(X_test))\n",
    "plt.plot(fpr, tpr, label=\"GBC Curve\")\n",
    "plt.xlabel(\"FPR\")\n",
    "plt.ylabel(\"TPR (recall)\")\n",
    "# find threshold closest to zero\n",
    "close_zero = np.argmin(np.abs(thresholds))\n",
    "plt.plot(fpr[close_zero], tpr[close_zero], 'o', markersize=10,\n",
    "label=\"threshold zero\", fillstyle=\"none\", c='k', mew=2)\n",
    "plt.legend(loc=4)\n",
    "\n",
    "from sklearn.metrics import roc_curve\n",
    "fpr, tpr, thresholds = roc_curve(y_test, modellog.decision_function(X_test))\n",
    "plt.plot(fpr, tpr, label=\"Log Curve\")\n",
    "plt.xlabel(\"FPR\")\n",
    "plt.ylabel(\"TPR (recall)\")\n",
    "# find threshold closest to zero\n",
    "close_zero = np.argmin(np.abs(thresholds))\n",
    "plt.plot(fpr[close_zero], tpr[close_zero], 'o', markersize=10,\n",
    "label=\"threshold zero\", fillstyle=\"none\", c='k', mew=2)\n",
    "plt.legend(loc=4)"
   ]
  },
  {
   "cell_type": "code",
   "execution_count": 48,
   "id": "1fe79908",
   "metadata": {},
   "outputs": [
    {
     "name": "stdout",
     "output_type": "stream",
     "text": [
      "AUC for GBC : 0.673\n",
      "AUC for LogisticRegression: 0.693\n"
     ]
    }
   ],
   "source": [
    "from sklearn.metrics import roc_auc_score\n",
    "mb_auc = roc_auc_score(y_test, modelboost.predict_proba(X_test)[:, 1])\n",
    "log_auc = roc_auc_score(y_test, modellog.decision_function(X_test))\n",
    "print(\"AUC for GBC : {:.3f}\".format(mb_auc))\n",
    "print(\"AUC for LogisticRegression: {:.3f}\".format(log_auc))"
   ]
  },
  {
   "cell_type": "markdown",
   "id": "3346bf0b",
   "metadata": {},
   "source": [
    "# svcclass\n"
   ]
  },
  {
   "cell_type": "code",
   "execution_count": 49,
   "id": "ee044998",
   "metadata": {},
   "outputs": [],
   "source": [
    "from sklearn.svm import LinearSVC"
   ]
  },
  {
   "cell_type": "code",
   "execution_count": 41,
   "id": "c4ff7438",
   "metadata": {
    "scrolled": true
   },
   "outputs": [],
   "source": [
    "svc = LinearSVC(C=2).fit(X_train, y_train)"
   ]
  },
  {
   "cell_type": "code",
   "execution_count": 42,
   "id": "3f4238df",
   "metadata": {},
   "outputs": [],
   "source": [
    "pred_svc = svc.predict(X_test)"
   ]
  },
  {
   "cell_type": "code",
   "execution_count": 43,
   "id": "f298bfbb",
   "metadata": {},
   "outputs": [
    {
     "data": {
      "text/plain": [
       "array([[13767,    95],\n",
       "       [ 3062,   128]])"
      ]
     },
     "execution_count": 43,
     "metadata": {},
     "output_type": "execute_result"
    }
   ],
   "source": [
    "confusionsvc = confusion_matrix(y_test, pred_svc)\n",
    "confusionsvc"
   ]
  },
  {
   "cell_type": "code",
   "execution_count": 44,
   "id": "cabf8e7d",
   "metadata": {},
   "outputs": [
    {
     "data": {
      "text/plain": [
       "0.0750073249340756"
      ]
     },
     "execution_count": 44,
     "metadata": {},
     "output_type": "execute_result"
    }
   ],
   "source": [
    "print(f1_score(y_test, pred_svc))\n"
   ]
  },
  {
   "cell_type": "markdown",
   "id": "f5b41c3d",
   "metadata": {},
   "source": [
    "4. Entrena uno o varios modelos (usando el/los algoritmo(s) que prefieras) para estimar la probabilidad de atraso de un vuelo. Sientete libre de generar variables adicionales y/o complementar con variables externas.\n",
    "\n",
    "    * De los 4 modelos generados (Random Forest, LinearSVC, LogisticRegression y GradientBoostClassifier(GBC), el modelo GBC obtuvo un mejor score en f1, con un valor de .31, a diferencia de los demas modelos con un f1 de .07 para el LinearSVC y .09 para Logistic Regression.\n",
    "\n",
    "\n",
    "\n",
    "5. Evalua tu modelo.  Que  performance tiene?  Que  metricas usaste para evaluar esa performance y por que ?  Por que elegiste ese algoritmo en particular?  Que variables son las que mas influyen en la prediccion?  Como podrias mejorar la performance?\n",
    "\n",
    "    * El modelo con mejor performance es el GBC.\n",
    "    * Las variables que influyen en la prediccion son Periodo del dia, Emp-O, temporada alta y DIANOM.\n",
    "    * Para mejorar el performance se sugiere agregar mas features o columnas como temperatura, dias de ultimo servicio de mantenimiento del avion, crear variables mas complejas.\n"
   ]
  }
 ],
 "metadata": {
  "kernelspec": {
   "display_name": "Python 3 (ipykernel)",
   "language": "python",
   "name": "python3"
  },
  "language_info": {
   "codemirror_mode": {
    "name": "ipython",
    "version": 3
   },
   "file_extension": ".py",
   "mimetype": "text/x-python",
   "name": "python",
   "nbconvert_exporter": "python",
   "pygments_lexer": "ipython3",
   "version": "3.7.6"
  }
 },
 "nbformat": 4,
 "nbformat_minor": 5
}
